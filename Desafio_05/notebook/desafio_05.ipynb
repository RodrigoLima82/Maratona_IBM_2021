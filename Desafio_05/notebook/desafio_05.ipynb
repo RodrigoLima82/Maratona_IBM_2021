{
 "cells": [
  {
   "cell_type": "markdown",
   "metadata": {},
   "source": [
    "# MARATONA BEHIND THE CODE 2021\n",
    "\n",
    "## DESAFIO 5: SONDA\n",
    "\n",
    "##### Autor: Rodrigo Oliveira\n",
    "##### LinkedIn: https://www.linkedin.com/in/rodrigolima82/"
   ]
  },
  {
   "cell_type": "markdown",
   "metadata": {},
   "source": [
    "# Parte 01. Importando as bibliotecas"
   ]
  },
  {
   "cell_type": "code",
   "execution_count": 1,
   "metadata": {},
   "outputs": [],
   "source": [
    "# Pacotes padrao\n",
    "import pandas as pd\n",
    "import numpy as np\n",
    "import seaborn as sns\n",
    "import matplotlib.pylab as plt\n",
    "%matplotlib inline\n",
    "\n",
    "# Pacote ML\n",
    "from sklearn.linear_model import LogisticRegression\n",
    "from sklearn.model_selection import train_test_split\n",
    "from sklearn.metrics import accuracy_score, confusion_matrix, classification_report, precision_score, f1_score\n",
    "from sklearn.preprocessing import MinMaxScaler\n",
    "\n",
    "# Desativando warnings no jupyter\n",
    "import warnings\n",
    "warnings.filterwarnings('ignore')"
   ]
  },
  {
   "cell_type": "markdown",
   "metadata": {},
   "source": [
    "# Parte 02. Carregando o Dataset"
   ]
  },
  {
   "cell_type": "code",
   "execution_count": 2,
   "metadata": {},
   "outputs": [
    {
     "name": "stdout",
     "output_type": "stream",
     "text": [
      "Dataset shape:  (4106, 21)\n",
      "Teste shape:  (1324, 21)\n",
      "Full shape:  (5430, 21)\n"
     ]
    }
   ],
   "source": [
    "# Carregando o dataset\n",
    "dataset = pd.read_csv('../data/dataset.csv')\n",
    "\n",
    "# Remove registros vazios\n",
    "dataset.dropna(inplace = True)   \n",
    "\n",
    "# Carregando o dataset ANSWERS\n",
    "answers = pd.read_csv('../data/ANSWERS.csv')\n",
    "\n",
    "# Realizando o join com answers\n",
    "fullDF = dataset.append(answers)\n",
    "\n",
    "# Exibindo quantidade de registros\n",
    "print('Dataset shape: ', dataset.shape)\n",
    "print('Teste shape: ', answers.shape)\n",
    "print('Full shape: ', fullDF.shape)"
   ]
  },
  {
   "cell_type": "markdown",
   "metadata": {},
   "source": [
    "# Parte 03. Tratamento dos dados"
   ]
  },
  {
   "cell_type": "code",
   "execution_count": 3,
   "metadata": {},
   "outputs": [],
   "source": [
    "def fe(df):\n",
    "    \n",
    "    # Transformando algumas variaveis string para inteiro\n",
    "    cleanup_nums = {\n",
    "                    \"PARTNER\":          {\"No\": 0, \"Yes\": 1},\n",
    "                    \"DEPENDENTS\":       {\"No\": 0, \"Yes\": 1},\n",
    "                    \"PHONESERVICE\":     {\"No\": 0, \"Yes\": 1},\n",
    "                    \"INTERNETSERVICE\":  {\"DSL\": 1, \"Fiber optic\": 2, \"No\": 0},\n",
    "                    \"ONLINESECURITY\":   {\"No\": 0, \"Yes\": 1, \"No internet service\": -1},\n",
    "                    \"ONLINEBACKUP\":     {\"No\": 0, \"Yes\": 1, \"No internet service\": -1},\n",
    "                    \"DEVICEPROTECTION\": {\"No\": 0, \"Yes\": 1, \"No internet service\": -1},\n",
    "                    \"TECHSUPPORT\":      {\"No\": 0, \"Yes\": 1, \"No internet service\": -1},\n",
    "                    \"STREAMINGTV\":      {\"No\": 0, \"Yes\": 1, \"No internet service\": -1},\n",
    "                    \"STREAMINGMOVIES\":  {\"No\": 0, \"Yes\": 1, \"No internet service\": -1},\n",
    "                    \"CONTRACT\":         {\"Month-to-month\": 0, \"Two year\": 0.5, \"One year\": 1},\n",
    "                    \"PAPERLESSBILLING\": {\"No\": 0, \"Yes\": 1},\n",
    "                    \"PAYMENTMETHOD\":    {\"Credit card (automatic)\": 0, \"Electronic check\": 1, \"Mailed check\": 2, \"Bank transfer (automatic)\": 3},\n",
    "                    \"CHURN\":            {\"No\": 0, \"Yes\": 1, \"TO_FILL\": -1},\n",
    "                    \"TOTALCHARGES\":     {' ': -99}                    \n",
    "                    }\n",
    "\n",
    "    # Aplicando a transformacao\n",
    "    df.replace(cleanup_nums, inplace=True)\n",
    "\n",
    "    # Transformando a coluna em float\n",
    "    df['TOTALCHARGES'] = pd.to_numeric(df['TOTALCHARGES'])\n",
    "\n",
    "    # Calculando o produto entre colunas\n",
    "    df[\"TENURE_TOTALCHARGES_prod\"] = df[\"TENURE\"] * df[\"TOTALCHARGES\"]\n",
    "    df[\"TENURE_MONTHLYCHARGES_prod\"] = df[\"TENURE\"] * df[\"MONTHLYCHARGES\"]\n",
    "    df[\"MONTHLYCHARGES_TOTALCHARGES_prod\"] = df[\"MONTHLYCHARGES\"] * df[\"TOTALCHARGES\"]\n",
    "\n",
    "    # Realizando uma transformacao logaritma na variavel MONTHLYCHARGES\n",
    "    df[\"MONTHLYCHARGES_log\"] = np.log1p(df[\"MONTHLYCHARGES\"])\n",
    "    df[\"MONTHLYCHARGES_TOTALCHARGES_prod_log\"] = np.log1p(df[\"MONTHLYCHARGES_TOTALCHARGES_prod\"])\n",
    "\n",
    "    # Separa dataset de treino e teste depois de aplicar Feature Engineering\n",
    "    train = df[df['CHURN'] != -1]\n",
    "    test = df[df['CHURN'] == -1]\n",
    "\n",
    "    return train, test    "
   ]
  },
  {
   "cell_type": "code",
   "execution_count": 4,
   "metadata": {},
   "outputs": [],
   "source": [
    "# Aplicando Feature Engineering\n",
    "treino, teste = fe(fullDF)"
   ]
  },
  {
   "cell_type": "code",
   "execution_count": 5,
   "metadata": {},
   "outputs": [],
   "source": [
    "# Remove registros nulos apos aplicar funcao logaritima\n",
    "treino.dropna(inplace = True)"
   ]
  },
  {
   "cell_type": "code",
   "execution_count": 6,
   "metadata": {},
   "outputs": [
    {
     "name": "stdout",
     "output_type": "stream",
     "text": [
      "Treino shape:  (4103, 26)\n",
      "Teste shape:  (1324, 26)\n"
     ]
    }
   ],
   "source": [
    "# Exibindo quantidade de registros\n",
    "print('Treino shape: ', treino.shape)\n",
    "print('Teste shape: ', teste.shape)"
   ]
  },
  {
   "cell_type": "markdown",
   "metadata": {},
   "source": [
    "# Parte 04. Modelagem Preditiva"
   ]
  },
  {
   "cell_type": "code",
   "execution_count": 7,
   "metadata": {},
   "outputs": [],
   "source": [
    "# features do modelo\n",
    "features = ['SENIORCITIZEN',\n",
    "            'DEPENDENTS',\n",
    "            'PHONESERVICE',\n",
    "            'INTERNETSERVICE',\n",
    "            'ONLINESECURITY',\n",
    "            'ONLINEBACKUP',\n",
    "            'TECHSUPPORT',\n",
    "            'STREAMINGTV',\n",
    "            'STREAMINGMOVIES',\n",
    "            'CONTRACT',\n",
    "            'PAPERLESSBILLING',\n",
    "            'PAYMENTMETHOD',\n",
    "            'MONTHLYCHARGES_log',\n",
    "            'TENURE_TOTALCHARGES_prod',\n",
    "            'TENURE_MONTHLYCHARGES_prod',\n",
    "            'MONTHLYCHARGES_TOTALCHARGES_prod'\n",
    "            ]\n",
    "\n",
    "# coluna a ser prevista\n",
    "target   = ['CHURN']"
   ]
  },
  {
   "cell_type": "code",
   "execution_count": 8,
   "metadata": {},
   "outputs": [],
   "source": [
    "# Selecionando features para treinamento\n",
    "X = treino[features]\n",
    "\n",
    "# Selecionando feature target\n",
    "y = treino[target]\n",
    "\n",
    "# Split dos dados\n",
    "X_treino, X_val, y_treino, y_val = train_test_split(X, y, test_size = .2, random_state = 42, stratify = y)    \n",
    "\n",
    "# Aplica scala \n",
    "scaler = MinMaxScaler()\n",
    "X_treino = scaler.fit_transform(X_treino)\n",
    "X_val = scaler.transform(X_val)\n"
   ]
  },
  {
   "cell_type": "code",
   "execution_count": 9,
   "metadata": {},
   "outputs": [],
   "source": [
    "# Modelo de Regressao Logistica\n",
    "model = LogisticRegression(solver='liblinear', random_state=42)\n",
    "\n",
    "# Fit do modelo\n",
    "model.fit(X_treino, y_treino)\n",
    "\n",
    "# Calculando previsoes\n",
    "y_pred_val = model.predict(X_val)\n"
   ]
  },
  {
   "cell_type": "code",
   "execution_count": 10,
   "metadata": {},
   "outputs": [
    {
     "name": "stdout",
     "output_type": "stream",
     "text": [
      "Training set score: 0.7974\n",
      "Test set score: 0.8270\n",
      "f1 Score (Test): 0.8223\n"
     ]
    }
   ],
   "source": [
    "print('Training set score: {:.4f}'.format(model.score(X_treino, y_treino)))\n",
    "\n",
    "print('Test set score: {:.4f}'.format(model.score(X_val, y_val)))\n",
    "\n",
    "print(\"f1 Score (Test): {:.4f}\".format(f1_score(y_val, y_pred_val, average='weighted')))"
   ]
  },
  {
   "cell_type": "code",
   "execution_count": 11,
   "metadata": {},
   "outputs": [],
   "source": [
    "def performance_model(model):\n",
    "\n",
    "    # Calcula o score com dados de teste\n",
    "    score = f1_score(y_val, y_pred_val, average='weighted')\n",
    "\n",
    "    # Cria a matriz de confusão\n",
    "    conf_matriz = confusion_matrix(y_val, y_pred_val)\n",
    "        \n",
    "    # Matriz de Confusão gráfica\n",
    "    sns.set(rc={'figure.figsize':(6, 6)})\n",
    "    sns.heatmap(conf_matriz, \n",
    "                annot = True, \n",
    "                fmt = \".0f\", \n",
    "                linewidths = .5, \n",
    "                square = True, \n",
    "                cmap = 'RdBu_r')\n",
    "\n",
    "    # Labels e Títulos\n",
    "    plt.ylabel('Label Verdadeiro')\n",
    "    plt.xlabel('Label Previsto')\n",
    "    plt.title('F1 Score: {:.2f}'.format(score), size = 15)\n",
    "\n",
    "    # Relatório de Classificação\n",
    "    print(classification_report(y_val, y_pred_val))\n",
    "\n",
    "    return score"
   ]
  },
  {
   "cell_type": "code",
   "execution_count": 12,
   "metadata": {},
   "outputs": [
    {
     "name": "stdout",
     "output_type": "stream",
     "text": [
      "              precision    recall  f1-score   support\n",
      "\n",
      "           0       0.86      0.91      0.89       605\n",
      "           1       0.70      0.60      0.65       216\n",
      "\n",
      "    accuracy                           0.83       821\n",
      "   macro avg       0.78      0.75      0.77       821\n",
      "weighted avg       0.82      0.83      0.82       821\n",
      "\n"
     ]
    },
    {
     "data": {
      "image/png": "[encoded data removed]",
      "text/plain": [
       "<Figure size 432x432 with 2 Axes>"
      ]
     },
     "metadata": {},
     "output_type": "display_data"
    }
   ],
   "source": [
    "score = performance_model(model)"
   ]
  },
  {
   "cell_type": "markdown",
   "metadata": {},
   "source": [
    "# Parte 05. Realizando Previsoes"
   ]
  },
  {
   "cell_type": "code",
   "execution_count": 17,
   "metadata": {},
   "outputs": [
    {
     "name": "stdout",
     "output_type": "stream",
     "text": [
      "(1324, 16)\n"
     ]
    },
    {
     "data": {
      "text/plain": [
       "array([[0.00000000e+00, 0.00000000e+00, 1.00000000e+00, ...,\n",
       "        4.36258837e-04, 6.22883391e-03, 1.57629118e-03],\n",
       "       [0.00000000e+00, 0.00000000e+00, 1.00000000e+00, ...,\n",
       "        7.38093908e-02, 1.07859040e-01, 1.87603217e-02],\n",
       "       [0.00000000e+00, 0.00000000e+00, 1.00000000e+00, ...,\n",
       "        6.10368196e-01, 5.87537987e-01, 4.85591198e-01],\n",
       "       ...,\n",
       "       [0.00000000e+00, 0.00000000e+00, 1.00000000e+00, ...,\n",
       "        6.72096569e-01, 5.59042571e-01, 5.25585835e-01],\n",
       "       [0.00000000e+00, 0.00000000e+00, 1.00000000e+00, ...,\n",
       "        1.31879285e-02, 3.23168784e-03, 1.84020124e-03],\n",
       "       [1.00000000e+00, 0.00000000e+00, 1.00000000e+00, ...,\n",
       "        7.51461643e-01, 4.18552053e-01, 3.75835925e-01]])"
      ]
     },
     "execution_count": 17,
     "metadata": {},
     "output_type": "execute_result"
    }
   ],
   "source": [
    "# Apenas feature no dataset de test\n",
    "X_teste = teste[features]\n",
    "\n",
    "# Aplica scala\n",
    "X_teste = scaler.transform(X_teste)\n",
    "\n",
    "# Visualiza\n",
    "print(X_teste.shape)\n",
    "X_teste"
   ]
  },
  {
   "cell_type": "code",
   "execution_count": 18,
   "metadata": {},
   "outputs": [
    {
     "data": {
      "image/png": "[encoded data removed]",
      "text/plain": [
       "<Figure size 288x216 with 1 Axes>"
      ]
     },
     "metadata": {},
     "output_type": "display_data"
    }
   ],
   "source": [
    "# Carregando o dataset ANSWERS\n",
    "answers = pd.read_csv('../data/ANSWERS.csv')\n",
    "\n",
    "# Realizando previsoes com dados de answers\n",
    "answers['CHURN'] = model.predict(X_teste)\n",
    "\n",
    "sns.set(rc={'figure.figsize':(4, 3)})\n",
    "plt.figure() \n",
    "\n",
    "plt.hist(model.predict(X_teste))\n",
    "plt.show()"
   ]
  },
  {
   "cell_type": "markdown",
   "metadata": {},
   "source": [
    "# Parte 06. Salvar resultado"
   ]
  },
  {
   "cell_type": "code",
   "execution_count": 19,
   "metadata": {},
   "outputs": [
    {
     "data": {
      "image/png": "[encoded data removed]",
      "text/plain": [
       "<Figure size 288x216 with 1 Axes>"
      ]
     },
     "metadata": {},
     "output_type": "display_data"
    }
   ],
   "source": [
    "# Retornando valor original para coluna CHURN\n",
    "change_value = {\"CHURN\": {0: \"No\", 1: \"Yes\"}}\n",
    "\n",
    "# Aplicando a transformacao\n",
    "answers.replace(change_value, inplace=True)\n",
    "\n",
    "answers.to_csv('../submissao/ANSWERS.csv', index=False)\n",
    "plt.hist(answers.CHURN)\n",
    "plt.show()"
   ]
  }
 ],
 "metadata": {
  "interpreter": {
   "hash": "ac6ad6cad6e86b8f8ebaedbe94ebc31d728d6c0d8223a99e9449734cfa4d7995"
  },
  "kernelspec": {
   "display_name": "Python 3.8.3 64-bit ('base': conda)",
   "name": "python3"
  },
  "language_info": {
   "codemirror_mode": {
    "name": "ipython",
    "version": 3
   },
   "file_extension": ".py",
   "mimetype": "text/x-python",
   "name": "python",
   "nbconvert_exporter": "python",
   "pygments_lexer": "ipython3",
   "version": "3.8.3"
  }
 },
 "nbformat": 4,
 "nbformat_minor": 1
}
